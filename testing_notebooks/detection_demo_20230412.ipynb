{
 "cells": [
  {
   "cell_type": "code",
   "execution_count": 1,
   "id": "c3441bde",
   "metadata": {},
   "outputs": [],
   "source": [
    "from PYME.IO.image import ImageStack\n",
    "from detector import Detector\n",
    "import matplotlib.pyplot as plt\n",
    "# %matplotlib widget\n",
    "# plt.set_loglevel(\"warning\")\n",
    "import numpy as np\n",
    "import os\n",
    "from PYME.recipes.processing import BackgroundSubtractionMovingPercentile"
   ]
  },
  {
   "cell_type": "code",
   "execution_count": 4,
   "id": "22a3ed16",
   "metadata": {},
   "outputs": [
    {
     "name": "stdout",
     "output_type": "stream",
     "text": [
      "filename == G:/GoogleDrive-aesb@stanford.edu/Shared drives/WEMpire-Users-TEMPONLY/AESB/From Ashwin  DHPSF Data\\FOV2_ER_500mW_647_p02exp_Gain300_X2.tif\n"
     ]
    },
    {
     "ename": "OSError",
     "evalue": "File does not exist or URI not understood: G:\\GoogleDrive-aesb@stanford.edu\\Shared drives\\WEMpire-Users-TEMPONLY\\AESB\\From Ashwin  DHPSF Data\\FOV2_ER_500mW_647_p02exp_Gain300_X2.tif",
     "output_type": "error",
     "traceback": [
      "\u001b[1;31m---------------------------------------------------------------------------\u001b[0m",
      "\u001b[1;31mOSError\u001b[0m                                   Traceback (most recent call last)",
      "\u001b[1;32m~\\AppData\\Local\\Temp\\ipykernel_18228\\2027078832.py\u001b[0m in \u001b[0;36m<module>\u001b[1;34m\u001b[0m\n\u001b[0;32m      1\u001b[0m \u001b[0mmac_path\u001b[0m \u001b[1;33m=\u001b[0m \u001b[1;34m'G:/GoogleDrive-aesb@stanford.edu/Shared drives/WEMpire-Users-TEMPONLY/AESB/From Ashwin  DHPSF Data'\u001b[0m\u001b[1;33m\u001b[0m\u001b[1;33m\u001b[0m\u001b[0m\n\u001b[1;32m----> 2\u001b[1;33m \u001b[0mim\u001b[0m \u001b[1;33m=\u001b[0m \u001b[0mImageStack\u001b[0m\u001b[1;33m(\u001b[0m\u001b[0mfilename\u001b[0m\u001b[1;33m=\u001b[0m\u001b[0mos\u001b[0m\u001b[1;33m.\u001b[0m\u001b[0mpath\u001b[0m\u001b[1;33m.\u001b[0m\u001b[0mjoin\u001b[0m\u001b[1;33m(\u001b[0m\u001b[0mmac_path\u001b[0m\u001b[1;33m,\u001b[0m \u001b[1;34m\"FOV2_ER_500mW_647_p02exp_Gain300_X2.tif\"\u001b[0m\u001b[1;33m)\u001b[0m\u001b[1;33m,\u001b[0m \u001b[0mhaveGUI\u001b[0m\u001b[1;33m=\u001b[0m\u001b[1;32mFalse\u001b[0m\u001b[1;33m)\u001b[0m\u001b[1;33m\u001b[0m\u001b[1;33m\u001b[0m\u001b[0m\n\u001b[0m\u001b[0;32m      3\u001b[0m \u001b[0mim\u001b[0m\u001b[1;33m.\u001b[0m\u001b[0mmdh\u001b[0m\u001b[1;33m[\u001b[0m\u001b[1;34m'Camera.NoiseFactor'\u001b[0m\u001b[1;33m]\u001b[0m \u001b[1;33m=\u001b[0m \u001b[1;36m1.4\u001b[0m \u001b[1;31m# typical for EMCCD with gain > 10\u001b[0m\u001b[1;33m\u001b[0m\u001b[1;33m\u001b[0m\u001b[0m\n\u001b[0;32m      4\u001b[0m \u001b[0mim\u001b[0m\u001b[1;33m.\u001b[0m\u001b[0mmdh\u001b[0m\u001b[1;33m[\u001b[0m\u001b[1;34m'Camera.ElectronsPerCount'\u001b[0m\u001b[1;33m]\u001b[0m \u001b[1;33m=\u001b[0m \u001b[1;36m12.9\u001b[0m  \u001b[1;31m# e-/ADU\u001b[0m\u001b[1;33m\u001b[0m\u001b[1;33m\u001b[0m\u001b[0m\n\u001b[0;32m      5\u001b[0m \u001b[0mim\u001b[0m\u001b[1;33m.\u001b[0m\u001b[0mmdh\u001b[0m\u001b[1;33m[\u001b[0m\u001b[1;34m'Camera.TrueEMGain'\u001b[0m\u001b[1;33m]\u001b[0m \u001b[1;33m=\u001b[0m \u001b[1;36m272\u001b[0m\u001b[1;33m\u001b[0m\u001b[1;33m\u001b[0m\u001b[0m\n",
      "\u001b[1;32mc:\\userfiles\\code\\dh_pyme_dev\\PYME\\IO\\image.py\u001b[0m in \u001b[0;36m__init__\u001b[1;34m(self, data, mdh, filename, queueURI, events, titleStub, haveGUI, load_prompt)\u001b[0m\n\u001b[0;32m    249\u001b[0m         \u001b[1;32mif\u001b[0m \u001b[1;33m(\u001b[0m\u001b[0mdata\u001b[0m \u001b[1;32mis\u001b[0m \u001b[1;32mNone\u001b[0m\u001b[1;33m)\u001b[0m\u001b[1;33m:\u001b[0m\u001b[1;33m\u001b[0m\u001b[1;33m\u001b[0m\u001b[0m\n\u001b[0;32m    250\u001b[0m             \u001b[1;31m#if we've supplied data, use that, otherwise load from file\u001b[0m\u001b[1;33m\u001b[0m\u001b[1;33m\u001b[0m\u001b[1;33m\u001b[0m\u001b[0m\n\u001b[1;32m--> 251\u001b[1;33m             \u001b[0mself\u001b[0m\u001b[1;33m.\u001b[0m\u001b[0mLoad\u001b[0m\u001b[1;33m(\u001b[0m\u001b[0mfilename\u001b[0m\u001b[1;33m,\u001b[0m \u001b[0mprompt\u001b[0m\u001b[1;33m=\u001b[0m\u001b[0mload_prompt\u001b[0m\u001b[1;33m,\u001b[0m \u001b[0mhaveGUI\u001b[0m\u001b[1;33m=\u001b[0m\u001b[0mself\u001b[0m\u001b[1;33m.\u001b[0m\u001b[0mhaveGUI\u001b[0m\u001b[1;33m)\u001b[0m\u001b[1;33m\u001b[0m\u001b[1;33m\u001b[0m\u001b[0m\n\u001b[0m\u001b[0;32m    252\u001b[0m \u001b[1;33m\u001b[0m\u001b[0m\n\u001b[0;32m    253\u001b[0m         \u001b[1;31m#do the necessary munging to get the data in the format we want it\u001b[0m\u001b[1;33m\u001b[0m\u001b[1;33m\u001b[0m\u001b[1;33m\u001b[0m\u001b[0m\n",
      "\u001b[1;32mc:\\userfiles\\code\\dh_pyme_dev\\PYME\\IO\\image.py\u001b[0m in \u001b[0;36mLoad\u001b[1;34m(self, filename, prompt, haveGUI)\u001b[0m\n\u001b[0;32m   1321\u001b[0m                 \u001b[0mfilename\u001b[0m \u001b[1;33m=\u001b[0m \u001b[0mself\u001b[0m\u001b[1;33m.\u001b[0m\u001b[0mseriesName\u001b[0m\u001b[1;33m\u001b[0m\u001b[1;33m\u001b[0m\u001b[0m\n\u001b[0;32m   1322\u001b[0m             \u001b[1;32melif\u001b[0m \u001b[0mos\u001b[0m\u001b[1;33m.\u001b[0m\u001b[0mpath\u001b[0m\u001b[1;33m.\u001b[0m\u001b[0msplitext\u001b[0m\u001b[1;33m(\u001b[0m\u001b[0mfilename\u001b[0m\u001b[1;33m)\u001b[0m\u001b[1;33m[\u001b[0m\u001b[1;36m1\u001b[0m\u001b[1;33m]\u001b[0m \u001b[1;32min\u001b[0m \u001b[1;33m[\u001b[0m\u001b[1;34m'.tif'\u001b[0m\u001b[1;33m,\u001b[0m \u001b[1;34m'.lsm'\u001b[0m\u001b[1;33m]\u001b[0m\u001b[1;33m:\u001b[0m \u001b[1;31m#try tiff\u001b[0m\u001b[1;33m\u001b[0m\u001b[1;33m\u001b[0m\u001b[0m\n\u001b[1;32m-> 1323\u001b[1;33m                 \u001b[0mself\u001b[0m\u001b[1;33m.\u001b[0m\u001b[0m_loadTiff\u001b[0m\u001b[1;33m(\u001b[0m\u001b[0mfilename\u001b[0m\u001b[1;33m)\u001b[0m\u001b[1;33m\u001b[0m\u001b[1;33m\u001b[0m\u001b[0m\n\u001b[0m\u001b[0;32m   1324\u001b[0m             \u001b[1;32melif\u001b[0m \u001b[0mfilename\u001b[0m\u001b[1;33m.\u001b[0m\u001b[0mendswith\u001b[0m\u001b[1;33m(\u001b[0m\u001b[1;34m'.dcimg'\u001b[0m\u001b[1;33m)\u001b[0m\u001b[1;33m:\u001b[0m\u001b[1;33m\u001b[0m\u001b[1;33m\u001b[0m\u001b[0m\n\u001b[0;32m   1325\u001b[0m                 \u001b[0mself\u001b[0m\u001b[1;33m.\u001b[0m\u001b[0m_loadDCIMG\u001b[0m\u001b[1;33m(\u001b[0m\u001b[0mfilename\u001b[0m\u001b[1;33m)\u001b[0m\u001b[1;33m\u001b[0m\u001b[1;33m\u001b[0m\u001b[0m\n",
      "\u001b[1;32mc:\\userfiles\\code\\dh_pyme_dev\\PYME\\IO\\image.py\u001b[0m in \u001b[0;36m_loadTiff\u001b[1;34m(self, filename)\u001b[0m\n\u001b[0;32m    991\u001b[0m         \u001b[1;32mfrom\u001b[0m \u001b[0mPYME\u001b[0m\u001b[1;33m.\u001b[0m\u001b[0mIO\u001b[0m\u001b[1;33m.\u001b[0m\u001b[0mDataSources\u001b[0m \u001b[1;32mimport\u001b[0m \u001b[0mTiffDataSource\u001b[0m\u001b[1;33m,\u001b[0m \u001b[0mBGSDataSource\u001b[0m\u001b[1;33m\u001b[0m\u001b[1;33m\u001b[0m\u001b[0m\n\u001b[0;32m    992\u001b[0m \u001b[1;33m\u001b[0m\u001b[0m\n\u001b[1;32m--> 993\u001b[1;33m         \u001b[0mmdfn\u001b[0m \u001b[1;33m=\u001b[0m \u001b[0mself\u001b[0m\u001b[1;33m.\u001b[0m\u001b[0m_findAndParseMetadata\u001b[0m\u001b[1;33m(\u001b[0m\u001b[0mfilename\u001b[0m\u001b[1;33m)\u001b[0m\u001b[1;33m\u001b[0m\u001b[1;33m\u001b[0m\u001b[0m\n\u001b[0m\u001b[0;32m    994\u001b[0m \u001b[1;33m\u001b[0m\u001b[0m\n\u001b[0;32m    995\u001b[0m         \u001b[0mself\u001b[0m\u001b[1;33m.\u001b[0m\u001b[0mdataSource\u001b[0m \u001b[1;33m=\u001b[0m \u001b[0mTiffDataSource\u001b[0m\u001b[1;33m.\u001b[0m\u001b[0mDataSource\u001b[0m\u001b[1;33m(\u001b[0m\u001b[0mfilename\u001b[0m\u001b[1;33m,\u001b[0m \u001b[1;32mNone\u001b[0m\u001b[1;33m)\u001b[0m\u001b[1;33m\u001b[0m\u001b[1;33m\u001b[0m\u001b[0m\n",
      "\u001b[1;32mc:\\userfiles\\code\\dh_pyme_dev\\PYME\\IO\\image.py\u001b[0m in \u001b[0;36m_findAndParseMetadata\u001b[1;34m(self, filename)\u001b[0m\n\u001b[0;32m    880\u001b[0m                 \u001b[1;31m#look for OME data...\u001b[0m\u001b[1;33m\u001b[0m\u001b[1;33m\u001b[0m\u001b[1;33m\u001b[0m\u001b[0m\n\u001b[0;32m    881\u001b[0m                 \u001b[1;32mfrom\u001b[0m \u001b[0mPYME\u001b[0m\u001b[1;33m.\u001b[0m\u001b[0mcontrib\u001b[0m\u001b[1;33m.\u001b[0m\u001b[0mgohlke\u001b[0m\u001b[1;33m.\u001b[0m\u001b[0mtifffile\u001b[0m \u001b[1;32mimport\u001b[0m \u001b[0mTIFFfile\u001b[0m\u001b[1;33m\u001b[0m\u001b[1;33m\u001b[0m\u001b[0m\n\u001b[1;32m--> 882\u001b[1;33m                 \u001b[0mtf\u001b[0m \u001b[1;33m=\u001b[0m \u001b[0mTIFFfile\u001b[0m\u001b[1;33m(\u001b[0m\u001b[0mfilename\u001b[0m\u001b[1;33m)\u001b[0m\u001b[1;33m\u001b[0m\u001b[1;33m\u001b[0m\u001b[0m\n\u001b[0m\u001b[0;32m    883\u001b[0m \u001b[1;33m\u001b[0m\u001b[0m\n\u001b[0;32m    884\u001b[0m                 \u001b[1;32mif\u001b[0m \u001b[0mtf\u001b[0m\u001b[1;33m.\u001b[0m\u001b[0mis_ome\u001b[0m\u001b[1;33m:\u001b[0m\u001b[1;33m\u001b[0m\u001b[1;33m\u001b[0m\u001b[0m\n",
      "\u001b[1;32mc:\\userfiles\\code\\dh_pyme_dev\\PYME\\contrib\\gohlke\\tifffile.py\u001b[0m in \u001b[0;36m__init__\u001b[1;34m(self, filename)\u001b[0m\n\u001b[0;32m    745\u001b[0m         \u001b[1;31m#filename = os.path.abspath(filename)\u001b[0m\u001b[1;33m\u001b[0m\u001b[1;33m\u001b[0m\u001b[1;33m\u001b[0m\u001b[0m\n\u001b[0;32m    746\u001b[0m         \u001b[1;31m#self._fd = open(filename, 'rb')\u001b[0m\u001b[1;33m\u001b[0m\u001b[1;33m\u001b[0m\u001b[1;33m\u001b[0m\u001b[0m\n\u001b[1;32m--> 747\u001b[1;33m         \u001b[0mself\u001b[0m\u001b[1;33m.\u001b[0m\u001b[0m_fd\u001b[0m \u001b[1;33m=\u001b[0m \u001b[0munifiedIO\u001b[0m\u001b[1;33m.\u001b[0m\u001b[0mopenFile\u001b[0m\u001b[1;33m(\u001b[0m\u001b[0mfilename\u001b[0m\u001b[1;33m)\u001b[0m\u001b[1;33m\u001b[0m\u001b[1;33m\u001b[0m\u001b[0m\n\u001b[0m\u001b[0;32m    748\u001b[0m         \u001b[0mself\u001b[0m\u001b[1;33m.\u001b[0m\u001b[0mfname\u001b[0m \u001b[1;33m=\u001b[0m \u001b[0mos\u001b[0m\u001b[1;33m.\u001b[0m\u001b[0mpath\u001b[0m\u001b[1;33m.\u001b[0m\u001b[0mbasename\u001b[0m\u001b[1;33m(\u001b[0m\u001b[0mfilename\u001b[0m\u001b[1;33m)\u001b[0m\u001b[1;33m\u001b[0m\u001b[1;33m\u001b[0m\u001b[0m\n\u001b[0;32m    749\u001b[0m         \u001b[0mself\u001b[0m\u001b[1;33m.\u001b[0m\u001b[0mfpath\u001b[0m \u001b[1;33m=\u001b[0m \u001b[0mos\u001b[0m\u001b[1;33m.\u001b[0m\u001b[0mpath\u001b[0m\u001b[1;33m.\u001b[0m\u001b[0mdirname\u001b[0m\u001b[1;33m(\u001b[0m\u001b[0mfilename\u001b[0m\u001b[1;33m)\u001b[0m\u001b[1;33m\u001b[0m\u001b[1;33m\u001b[0m\u001b[0m\n",
      "\u001b[1;32mc:\\userfiles\\code\\dh_pyme_dev\\PYME\\IO\\unifiedIO.py\u001b[0m in \u001b[0;36mopenFile\u001b[1;34m(filename, mode)\u001b[0m\n\u001b[0;32m    236\u001b[0m         \u001b[1;32mreturn\u001b[0m \u001b[0mBytesIO\u001b[0m\u001b[1;33m(\u001b[0m\u001b[0ms\u001b[0m\u001b[1;33m)\u001b[0m\u001b[1;33m\u001b[0m\u001b[1;33m\u001b[0m\u001b[0m\n\u001b[0;32m    237\u001b[0m     \u001b[1;32melse\u001b[0m\u001b[1;33m:\u001b[0m\u001b[1;33m\u001b[0m\u001b[1;33m\u001b[0m\u001b[0m\n\u001b[1;32m--> 238\u001b[1;33m         \u001b[1;32mraise\u001b[0m \u001b[0mIOError\u001b[0m\u001b[1;33m(\u001b[0m\u001b[1;34m'File does not exist or URI not understood: %s'\u001b[0m \u001b[1;33m%\u001b[0m \u001b[0mfilename\u001b[0m\u001b[1;33m)\u001b[0m\u001b[1;33m\u001b[0m\u001b[1;33m\u001b[0m\u001b[0m\n\u001b[0m\u001b[0;32m    239\u001b[0m \u001b[1;33m\u001b[0m\u001b[0m\n\u001b[0;32m    240\u001b[0m \u001b[1;32mdef\u001b[0m \u001b[0mread\u001b[0m\u001b[1;33m(\u001b[0m\u001b[0mfilename\u001b[0m\u001b[1;33m)\u001b[0m\u001b[1;33m:\u001b[0m\u001b[1;33m\u001b[0m\u001b[1;33m\u001b[0m\u001b[0m\n",
      "\u001b[1;31mOSError\u001b[0m: File does not exist or URI not understood: G:\\GoogleDrive-aesb@stanford.edu\\Shared drives\\WEMpire-Users-TEMPONLY\\AESB\\From Ashwin  DHPSF Data\\FOV2_ER_500mW_647_p02exp_Gain300_X2.tif"
     ]
    }
   ],
   "source": [
    "mac_path = 'G:/GoogleDrive-aesb@stanford.edu/Shared drives/WEMpire-Users-TEMPONLY/AESB/From Ashwin  DHPSF Data'\n",
    "im = ImageStack(filename=os.path.join(mac_path, \"FOV2_ER_500mW_647_p02exp_Gain300_X2.tif\"), haveGUI=False)\n",
    "im.mdh['Camera.NoiseFactor'] = 1.4 # typical for EMCCD with gain > 10\n",
    "im.mdh['Camera.ElectronsPerCount'] = 12.9  # e-/ADU\n",
    "im.mdh['Camera.TrueEMGain'] = 272\n",
    "im.mdh['Camera.ADOffset'] = 110 # [ADU]\n",
    "im.mdh['voxelsize.x'] = 0.1175 # [um]\n",
    "im.mdh['voxelsize.y'] = 0.1175 # [um]\n",
    "\n",
    "dark = ImageStack(filename=os.path.join(mac_path, \"RedChannelSR_Dark_Counts.tif\"), haveGUI=False)"
   ]
  },
  {
   "cell_type": "code",
   "execution_count": 3,
   "id": "66eca5d7",
   "metadata": {},
   "outputs": [
    {
     "ename": "NameError",
     "evalue": "name 'im' is not defined",
     "output_type": "error",
     "traceback": [
      "\u001b[1;31m---------------------------------------------------------------------------\u001b[0m",
      "\u001b[1;31mNameError\u001b[0m                                 Traceback (most recent call last)",
      "\u001b[1;32m~\\AppData\\Local\\Temp\\ipykernel_18228\\4196827523.py\u001b[0m in \u001b[0;36m<module>\u001b[1;34m\u001b[0m\n\u001b[1;32m----> 1\u001b[1;33m \u001b[0mbg_sub\u001b[0m \u001b[1;33m=\u001b[0m \u001b[0mBackgroundSubtractionMovingPercentile\u001b[0m\u001b[1;33m(\u001b[0m\u001b[1;33m)\u001b[0m\u001b[1;33m.\u001b[0m\u001b[0mapply_simple\u001b[0m\u001b[1;33m(\u001b[0m\u001b[0mim\u001b[0m\u001b[1;33m)\u001b[0m\u001b[1;33m\u001b[0m\u001b[1;33m\u001b[0m\u001b[0m\n\u001b[0m",
      "\u001b[1;31mNameError\u001b[0m: name 'im' is not defined"
     ]
    }
   ],
   "source": [
    "bg_sub = BackgroundSubtractionMovingPercentile().apply_simple(im)"
   ]
  },
  {
   "cell_type": "code",
   "execution_count": null,
   "id": "c161564d",
   "metadata": {},
   "outputs": [],
   "source": [
    "lobe_sep = 800  # [nm]\n",
    "lobe_sep_px = lobe_sep / im.mdh.voxelsize_nm.x\n",
    "print(lobe_sep_px)"
   ]
  },
  {
   "cell_type": "code",
   "execution_count": null,
   "id": "8c64a264",
   "metadata": {},
   "outputs": [],
   "source": [
    "test_frame = 75#40\n",
    "plt.figure()\n",
    "plt.imshow(im.data_xytc[:,:,test_frame,0])\n",
    "plt.colorbar()\n",
    "\n",
    "plt.figure()\n",
    "plt.imshow(bg_sub.data_xytc[:,:,test_frame,0])\n",
    "plt.colorbar()"
   ]
  },
  {
   "cell_type": "code",
   "execution_count": null,
   "id": "7a7e7aeb",
   "metadata": {},
   "outputs": [],
   "source": [
    "from PYME.localization.remFitBuf import fitTask\n",
    "\n",
    "sigma = fitTask.calcSigma(im.mdh, (im.data_xytc[:,:,test_frame,0] - im.mdh['Camera.ADOffset']).astype('f'))\n",
    "\n",
    "plt.figure()\n",
    "plt.imshow(sigma)\n",
    "plt.colorbar()\n",
    "\n",
    "plt.figure()\n",
    "plt.imshow(bg_sub.data_xytc[:,:,test_frame,0] > sigma)"
   ]
  },
  {
   "cell_type": "code",
   "execution_count": null,
   "id": "1ce58693",
   "metadata": {},
   "outputs": [],
   "source": [
    "detector = Detector(im.data_xytc.shape[:2], 15, mag=0.15)"
   ]
  },
  {
   "cell_type": "code",
   "execution_count": null,
   "id": "535096d8",
   "metadata": {},
   "outputs": [],
   "source": [
    "\n",
    "# plt.figure()\n",
    "# plt.imshow(im.data_xytc[:,:,test_frame,0])\n",
    "# plt.colorbar()\n",
    "\n",
    "strength_image, angle_image = detector.filter_frame(np.asarray(bg_sub.data_xytc[:,:,test_frame,0].squeeze(), dtype=float))\n",
    "\n",
    "plt.figure()\n",
    "plt.imshow(strength_image)\n",
    "plt.colorbar()"
   ]
  },
  {
   "cell_type": "code",
   "execution_count": null,
   "id": "8bdd1f29",
   "metadata": {},
   "outputs": [],
   "source": [
    "plt.figure()\n",
    "plt.imshow(strength_image / sigma.squeeze())\n",
    "plt.colorbar()"
   ]
  },
  {
   "cell_type": "code",
   "execution_count": null,
   "id": "2518ebff",
   "metadata": {},
   "outputs": [],
   "source": [
    "plt.figure()\n",
    "plt.imshow(strength_image > 1E6 * sigma.squeeze())\n",
    "plt.colorbar()"
   ]
  },
  {
   "cell_type": "code",
   "execution_count": null,
   "id": "39ec7c50",
   "metadata": {},
   "outputs": [],
   "source": [
    "row, col, orientation = detector.extract_candidates(strength_image, angle_image, 1E6 * sigma.squeeze())"
   ]
  },
  {
   "cell_type": "code",
   "execution_count": null,
   "id": "b9db350f",
   "metadata": {},
   "outputs": [],
   "source": [
    "row"
   ]
  },
  {
   "cell_type": "code",
   "execution_count": null,
   "id": "f1e734b1",
   "metadata": {},
   "outputs": [],
   "source": [
    "col\n",
    "orientation"
   ]
  },
  {
   "cell_type": "code",
   "execution_count": null,
   "id": "372b5d89",
   "metadata": {},
   "outputs": [],
   "source": [
    "plt.figure()\n",
    "plt.imshow(im.data_xytc[:,:,test_frame,0])\n",
    "plt.scatter(col, row, marker='x', c='red')\n",
    "plt.show()\n",
    "\n",
    "plt.figure()\n",
    "plt.imshow(bg_sub.data_xytc[:,:,test_frame,0])\n",
    "plt.scatter(col, row, marker='x', c='red')\n",
    "plt.show()"
   ]
  },
  {
   "cell_type": "code",
   "execution_count": null,
   "id": "e3c14e00",
   "metadata": {},
   "outputs": [],
   "source": [
    "plt.figure()\n",
    "plt.imshow(angle_image)\n",
    "plt.scatter(col, row, c='r')\n",
    "plt.colorbar()\n",
    "plt.title('Orientation Map [radians]')"
   ]
  },
  {
   "cell_type": "code",
   "execution_count": null,
   "id": "0510fb5b",
   "metadata": {},
   "outputs": [],
   "source": [
    "def lobe_estimate_from_center_pixel(x_pix, y_pix, orientation, lobe_sep_px):\n",
    "    dx = np.cos(orientation) * lobe_sep_px\n",
    "    dy = np.sin(orientation) * lobe_sep_px\n",
    "    x1 = x_pix - dx\n",
    "    y1 = y_pix - dy\n",
    "    x2 = x_pix + dx\n",
    "    y2 = y_pix + dy\n",
    "    return x1, y1, x2, y2\n",
    "\n",
    "x1, y1, x2, y2 = lobe_estimate_from_center_pixel(col, row, orientation, lobe_sep_px)"
   ]
  },
  {
   "cell_type": "code",
   "execution_count": null,
   "id": "e6573d2e",
   "metadata": {},
   "outputs": [],
   "source": [
    "plt.figure()\n",
    "plt.imshow(im.data_xytc[:,:,test_frame,0])\n",
    "# plt.scatter(col, row, marker='x', c='red')\n",
    "for ii in range(len(row)):\n",
    "    plt.plot([x1, x2], [y1, y2], 'r')\n",
    "\n",
    "plt.show()"
   ]
  },
  {
   "cell_type": "code",
   "execution_count": null,
   "id": "7d8c627f",
   "metadata": {},
   "outputs": [],
   "source": []
  }
 ],
 "metadata": {
  "kernelspec": {
   "display_name": "Python 3 (ipykernel)",
   "language": "python",
   "name": "python3"
  },
  "language_info": {
   "codemirror_mode": {
    "name": "ipython",
    "version": 3
   },
   "file_extension": ".py",
   "mimetype": "text/x-python",
   "name": "python",
   "nbconvert_exporter": "python",
   "pygments_lexer": "ipython3",
   "version": "3.7.16"
  }
 },
 "nbformat": 4,
 "nbformat_minor": 5
}
