{
 "cells": [
  {
   "cell_type": "code",
   "execution_count": 45,
   "id": "0273effa",
   "metadata": {},
   "outputs": [],
   "source": [
    "# Detection Normalization Testing Based on Results from \n",
    "# G:\\Shared drives\\WEMpire-LAB\\Current_projects\\CellImaging-NIH\\PYME-DH-fitting\\20250121_Compute_Separable_Basis_Sets\\20250329_Optimize_Filter_Sigma_via_Strength_Computation _Pixelate_First.nb\n",
    "\n",
    "\n",
    "from sympy.parsing.mathematica import mathematica\n",
    "import matplotlib.pyplot as plt\n",
    "from scipy import ndimage\n",
    "import numpy as np\n",
    "from math import exp\n",
    "from scipy.special import erf as erf\n",
    "from scipy.optimize import fsolve, fmin"
   ]
  },
  {
   "cell_type": "code",
   "execution_count": 46,
   "id": "127f6ce8",
   "metadata": {},
   "outputs": [],
   "source": [
    "s = 190/120\n",
    "l=1025/120\n",
    "A = 1\n",
    "\n",
    "# a = (1 / (s**2 + filter_sigma**2)**6) * A**4 * s**8 * filter_sigma**8 \n",
    "# b = exp((-(1+l)**2)/(4 * (s**2 + filter_sigma**2)))\n",
    "# c = (1 - exp(l/(2 * (s**2 + filter_sigma**2))) * (-1 + l) + l)**2\n",
    "# d = erf(1/(2 * np.sqrt(2) * np.sqrt(s**2 + filter_sigma**2)))**2\n",
    "# e = exp((-1)/(4 * (s**2 + filter_sigma**2)))\n",
    "# f = (erf((-1 + l)/(2 * np.sqrt(2) *np.sqrt(s**2 + filter_sigma**2))) - erf((1 + l)/(2 * np.sqrt(2) *np.sqrt(s**2 + filter_sigma**2))))**2\n",
    "# strength = np.pi * np.sqrt(a * (b * c * d - e * f)**2)\n",
    "\n",
    "\n",
    "strength = lambda filter_sigma : -np.sqrt( np.pi * np.sqrt(((1 / (s**2 + filter_sigma**2)**6) * A**4 * s**8 * filter_sigma**8 ) * ((exp((-(1+l)**2)/(4 * (s**2 + filter_sigma**2)))) * ((1 - exp(l/(2 * (s**2 + filter_sigma**2))) * (-1 + l) + l)**2) * (erf(1/(2 * np.sqrt(2) * np.sqrt(s**2 + filter_sigma**2)))**2) - (exp((-1)/(4 * (s**2 + filter_sigma**2)))) * ((erf((-1 + l)/(2 * np.sqrt(2) *np.sqrt(s**2 + filter_sigma**2))) - erf((1 + l)/(2 * np.sqrt(2) *np.sqrt(s**2 + filter_sigma**2))))**2))**2))"
   ]
  },
  {
   "cell_type": "code",
   "execution_count": 55,
   "id": "38ae0ad2",
   "metadata": {},
   "outputs": [],
   "source": [
    "sig = np.linspace(l/3, 25, 1000)\n",
    "y = list(map(strength, sig))"
   ]
  },
  {
   "cell_type": "code",
   "execution_count": 56,
   "id": "b732be54",
   "metadata": {},
   "outputs": [
    {
     "data": {
      "image/png": "[encoded data removed]",
      "text/plain": [
       "<Figure size 640x480 with 1 Axes>"
      ]
     },
     "metadata": {},
     "output_type": "display_data"
    }
   ],
   "source": [
    "plt.plot(sig, y);"
   ]
  },
  {
   "cell_type": "code",
   "execution_count": 49,
   "id": "6eaf3d4c",
   "metadata": {},
   "outputs": [
    {
     "name": "stdout",
     "output_type": "stream",
     "text": [
      "Optimization terminated successfully.\n",
      "         Current function value: -0.104107\n",
      "         Iterations: 15\n",
      "         Function evaluations: 30\n",
      "3.5961473253038214\n"
     ]
    }
   ],
   "source": [
    "optsig=fmin(strength,l/3)[0]\n",
    "print(optsig)"
   ]
  },
  {
   "cell_type": "code",
   "execution_count": 50,
   "id": "a4e4bfda",
   "metadata": {},
   "outputs": [
    {
     "data": {
      "text/plain": [
       "3.5961473253038214"
      ]
     },
     "execution_count": 50,
     "metadata": {},
     "output_type": "execute_result"
    }
   ],
   "source": [
    "optsig"
   ]
  },
  {
   "cell_type": "code",
   "execution_count": null,
   "id": "863952a2",
   "metadata": {},
   "outputs": [],
   "source": []
  }
 ],
 "metadata": {
  "kernelspec": {
   "display_name": "Python 3 (ipykernel)",
   "language": "python",
   "name": "python3"
  },
  "language_info": {
   "codemirror_mode": {
    "name": "ipython",
    "version": 3
   },
   "file_extension": ".py",
   "mimetype": "text/x-python",
   "name": "python",
   "nbconvert_exporter": "python",
   "pygments_lexer": "ipython3",
   "version": "3.7.16"
  }
 },
 "nbformat": 4,
 "nbformat_minor": 5
}
