{
 "cells": [
  {
   "cell_type": "code",
   "execution_count": 1,
   "id": "3a0ee91a",
   "metadata": {},
   "outputs": [],
   "source": [
    "import scipy\n",
    "import math\n",
    "import matplotlib.pyplot as plt\n",
    "import numpy as np\n",
    "from math import exp\n",
    "from scipy.optimize import fsolve\n"
   ]
  },
  {
   "cell_type": "code",
   "execution_count": 2,
   "id": "dd43925a",
   "metadata": {},
   "outputs": [],
   "source": [
    "l = 7.5\n",
    "s = 1.5\n",
    "\n",
    "# a = exp(l/(2*(s**2 + x**2)))\n",
    "# b = (l-1)\n",
    "# c = (12*s**4 + ((l-1)**2 + 12*s**2)*x**2)\n",
    "# d = (l+1)\n",
    "# e = (-12*s**4 - ((l+1)**2 + 12*s**2)*x**2)\n",
    "\n",
    "strength = lambda x : l*(12*s**4 + (3 + l**2 + 12*s**2)*x**2)*np.sinh(l/(4*(s**2 + x**2))) - ((12*s**4 + (1 + 3*l**2 + 12*s**2)*x**2)*np.cosh(l/(4*(s**2 + x**2)))) "
   ]
  },
  {
   "cell_type": "code",
   "execution_count": 3,
   "id": "d09efb4b",
   "metadata": {},
   "outputs": [],
   "source": [
    "opt_sigma = fsolve(strength, l/2)"
   ]
  },
  {
   "cell_type": "code",
   "execution_count": 4,
   "id": "31d76701",
   "metadata": {},
   "outputs": [
    {
     "data": {
      "text/plain": [
       "array([2.06605706])"
      ]
     },
     "execution_count": 4,
     "metadata": {},
     "output_type": "execute_result"
    }
   ],
   "source": [
    "opt_sigma"
   ]
  },
  {
   "cell_type": "code",
   "execution_count": 5,
   "id": "7a8d79e9",
   "metadata": {},
   "outputs": [
    {
     "data": {
      "text/plain": [
       "-2.432898327242583e-11"
      ]
     },
     "execution_count": 5,
     "metadata": {},
     "output_type": "execute_result"
    }
   ],
   "source": [
    "strength(opt_sigma[0])"
   ]
  },
  {
   "cell_type": "code",
   "execution_count": 6,
   "id": "59a3c517",
   "metadata": {},
   "outputs": [],
   "source": [
    "sig = np.linspace(0, 5, 500)\n",
    "y = list(map(strength, sig))"
   ]
  },
  {
   "cell_type": "code",
   "execution_count": 7,
   "id": "5c4cc340",
   "metadata": {},
   "outputs": [
    {
     "data": {
      "image/png": "[encoded data removed]",
      "text/plain": [
       "<Figure size 432x288 with 1 Axes>"
      ]
     },
     "metadata": {
      "needs_background": "light"
     },
     "output_type": "display_data"
    }
   ],
   "source": [
    "plt.plot(sig, y);"
   ]
  },
  {
   "cell_type": "code",
   "execution_count": null,
   "id": "a5268a03",
   "metadata": {},
   "outputs": [],
   "source": []
  }
 ],
 "metadata": {
  "kernelspec": {
   "display_name": "Python 3 (ipykernel)",
   "language": "python",
   "name": "python3"
  },
  "language_info": {
   "codemirror_mode": {
    "name": "ipython",
    "version": 3
   },
   "file_extension": ".py",
   "mimetype": "text/x-python",
   "name": "python",
   "nbconvert_exporter": "python",
   "pygments_lexer": "ipython3",
   "version": "3.7.16"
  }
 },
 "nbformat": 4,
 "nbformat_minor": 5
}
